{
  "cells": [
    {
      "cell_type": "markdown",
      "metadata": {
        "id": "iJcOi2igppTm"
      },
      "source": [
        "# Laboratory 1 - Introduction to Numerical Methods for Data Science"
      ]
    },
    {
      "cell_type": "markdown",
      "metadata": {
        "id": "0X-EFgaazZg_"
      },
      "source": [
        "## Week 1 - NumPy, Matplotlib, PyTorch, JAX."
      ]
    },
    {
      "cell_type": "markdown",
      "metadata": {
        "id": "HsUcY-UxpqTx"
      },
      "source": [
        "The goal of the first laboratory is to refresh your knowledge related to Python and familiarize yourself with external libraries that we will use during the course:\n",
        "\n",
        "1.  NumPy\n",
        "2.  Matplotlib\n",
        "3.  PyTorch\n",
        "4.  JAX\n",
        "\n",
        "There are seven exercises to complete. The notebook should be submitted using MSTeams before the next meeting. Do not use Gemini or other LLMs to solve the tasks.\n",
        "\n",
        "References to use:\n",
        "1. NumPy - https://numpy.org/doc/\n",
        "2. PyTorch - https://pytorch.org/tutorials/beginner/basics/intro.html\n",
        "3. Matplotlib - https://matplotlib.org/stable/tutorials/pyplot.html\n",
        "4. JAX - https://docs.jax.dev/en/latest/quickstart.html"
      ]
    },
    {
      "cell_type": "code",
      "execution_count": null,
      "metadata": {
        "id": "bLa590X-v08O"
      },
      "outputs": [],
      "source": [
        "import numpy as np\n",
        "import torch as tc\n",
        "import jax.numpy as jnp\n",
        "from jax import random\n",
        "import matplotlib.pyplot as plt"
      ]
    },
    {
      "cell_type": "markdown",
      "metadata": {
        "id": "MGADxeB3qZ-G"
      },
      "source": [
        "### Task 1 - Basic Python - Functions"
      ]
    },
    {
      "cell_type": "markdown",
      "metadata": {
        "id": "vPfrrsrrqb0q"
      },
      "source": [
        "\n",
        "Write a function that takes any number of arguments and returns their sum squared."
      ]
    },
    {
      "cell_type": "code",
      "execution_count": null,
      "metadata": {
        "id": "9VYFX_1Dpqgh"
      },
      "outputs": [],
      "source": [
        "def sum_squared(*args):\n",
        "  sum = 0\n",
        "  for i in args:\n",
        "    sum = sum + i**2\n",
        "\n",
        "  return sum"
      ]
    },
    {
      "cell_type": "markdown",
      "metadata": {
        "id": "xYRx2H4OrDcU"
      },
      "source": [
        "Test your function below:"
      ]
    },
    {
      "cell_type": "code",
      "execution_count": null,
      "metadata": {
        "id": "fNEM4EbCrGZ2",
        "colab": {
          "base_uri": "https://localhost:8080/"
        },
        "outputId": "34f9c53b-0968-483d-edec-689e89ae6e01"
      },
      "outputs": [
        {
          "output_type": "execute_result",
          "data": {
            "text/plain": [
              "55"
            ]
          },
          "metadata": {},
          "execution_count": 4
        }
      ],
      "source": [
        "sum_squared(1, 2, 3, 4, 5)"
      ]
    },
    {
      "cell_type": "markdown",
      "metadata": {
        "id": "1akt-e7oqd-S"
      },
      "source": [
        "### Task 2 - Basic Python - Generators"
      ]
    },
    {
      "cell_type": "markdown",
      "metadata": {
        "id": "fW0auvm0pqos"
      },
      "source": [
        "Write a generator that will generate integers in a given range (remember about the yield keyword)."
      ]
    },
    {
      "cell_type": "code",
      "execution_count": null,
      "metadata": {
        "id": "qZk1X-rspqvT"
      },
      "outputs": [],
      "source": [
        "def my_generator(start : int, stop : int):\n",
        "  for i in range(start, stop):\n",
        "    yield i"
      ]
    },
    {
      "cell_type": "markdown",
      "metadata": {
        "id": "YIaPh6_srWWX"
      },
      "source": [
        "Test your implementation below:"
      ]
    },
    {
      "cell_type": "code",
      "execution_count": null,
      "metadata": {
        "id": "6aBBWrA-rY6U",
        "colab": {
          "base_uri": "https://localhost:8080/"
        },
        "outputId": "daafcd43-00bc-4435-dbc0-9bbc8470e654"
      },
      "outputs": [
        {
          "output_type": "stream",
          "name": "stdout",
          "text": [
            "1\n",
            "2\n",
            "3\n",
            "4\n"
          ]
        }
      ],
      "source": [
        "example_gen = my_generator(1, 5)\n",
        "for item in example_gen:\n",
        "  print(item)"
      ]
    },
    {
      "cell_type": "markdown",
      "metadata": {
        "id": "XzwTMZg0pq1y"
      },
      "source": [
        "### Task 3 - NumPy & Matplotlib"
      ]
    },
    {
      "cell_type": "markdown",
      "metadata": {
        "id": "CXJ9EwYaqhEO"
      },
      "source": [
        "a) Generate an array of natural logarithm values for input values ​​ranging from 0 to 5 for 200 uniformly, monotonically distributed values."
      ]
    },
    {
      "cell_type": "code",
      "execution_count": null,
      "metadata": {
        "id": "0nXfjZNlpq7B",
        "colab": {
          "base_uri": "https://localhost:8080/"
        },
        "outputId": "5541b49c-4229-4e6c-c0f6-757863b722ef"
      },
      "outputs": [
        {
          "output_type": "stream",
          "name": "stdout",
          "text": [
            "[-3.21887582 -2.73452833 -2.40962205 -2.16479144 -1.9682688  -1.80409657\n",
            " -1.66311437 -1.5395744  -1.42963208 -1.3305887  -1.24047694 -1.15781832\n",
            " -1.08147357 -1.01054619 -0.94431804 -0.88220494 -0.82372529 -0.76847739\n",
            " -0.71612268 -0.66637315 -0.61898178 -0.5737351  -0.53044736 -0.48895596\n",
            " -0.44911774 -0.41080598 -0.37390801 -0.33832319 -0.30396127 -0.27074096\n",
            " -0.23858885 -0.20743838 -0.17722902 -0.14790556 -0.11941754 -0.09171865\n",
            " -0.06476635 -0.03852146 -0.01294778  0.01198816  0.03631739  0.06006875\n",
            "  0.08326904  0.10594326  0.12811474  0.14980529  0.17103533  0.191824\n",
            "  0.2121893   0.23214811  0.25171636  0.27090902  0.28974025  0.30822342\n",
            "  0.32637114  0.34419539  0.36170749  0.37891818  0.39583767  0.41247565\n",
            "  0.42884133  0.44494349  0.46079046  0.47639023  0.49175037  0.50687814\n",
            "  0.52178048  0.53646398  0.550935    0.5651996   0.57926357  0.59313248\n",
            "  0.60681168  0.62030628  0.6336212   0.64676116  0.6597307   0.67253417\n",
            "  0.68517579  0.6976596   0.70998947  0.72216917  0.73420231  0.74609238\n",
            "  0.75784272  0.7694566   0.78093715  0.79228739  0.80351024  0.81460854\n",
            "  0.82558501  0.83644231  0.84718299  0.85780954  0.86832435  0.87872975\n",
            "  0.88902799  0.89922125  0.90931166  0.91930127  0.92919208  0.93898601\n",
            "  0.94868495  0.95829073  0.96780511  0.97722982  0.98656653  0.99581688\n",
            "  1.00498244  1.01406475  1.02306532  1.0319856   1.04082702  1.04959094\n",
            "  1.05827873  1.06689169  1.0754311   1.0838982   1.09229421  1.10062032\n",
            "  1.10887768  1.11706741  1.12519061  1.13324836  1.14124169  1.14917165\n",
            "  1.15703921  1.16484535  1.17259103  1.18027718  1.1879047   1.19547448\n",
            "  1.20298739  1.21044428  1.21784597  1.22519328  1.23248701  1.23972791\n",
            "  1.24691677  1.25405431  1.26114127  1.26817836  1.27516627  1.28210569\n",
            "  1.28899728  1.29584171  1.30263961  1.30939161  1.31609833  1.32276036\n",
            "  1.32937831  1.33595274  1.34248424  1.34897335  1.35542062  1.3618266\n",
            "  1.3681918   1.37451673  1.38080192  1.38704785  1.393255    1.39942387\n",
            "  1.40555492  1.4116486   1.41770538  1.42372569  1.42970997  1.43565866\n",
            "  1.44157217  1.44745091  1.4532953   1.45910573  1.46488259  1.47062627\n",
            "  1.47633715  1.4820156   1.48766199  1.49327668  1.49886001  1.50441235\n",
            "  1.50993403  1.51542538  1.52088675  1.52631845  1.53172081  1.53709414\n",
            "  1.54243874  1.54775494  1.55304303  1.55830329  1.56353604  1.56874154\n",
            "  1.57392008  1.57907195  1.58419741  1.58929674  1.59437019  1.59941803\n",
            "  1.60444052  1.60943791]\n"
          ]
        }
      ],
      "source": [
        "\n",
        "vals = np.linspace(0.04, 5, num=200)\n",
        "log_vals = np.log(vals)\n",
        "\n",
        "print(log_vals)"
      ]
    },
    {
      "cell_type": "markdown",
      "metadata": {
        "id": "n-aD9q-fr6eZ"
      },
      "source": [
        "b) Add normal noise to the generated values ​​with a mean value of 0 and a standard deviation of 0.2."
      ]
    },
    {
      "cell_type": "code",
      "execution_count": null,
      "metadata": {
        "id": "Lomk55cdsI2t"
      },
      "outputs": [],
      "source": [
        "noise = np.random.normal(loc=0, scale=0.2, size=log_vals.shape)\n",
        "log_vals_distorted = log_vals + noise"
      ]
    },
    {
      "cell_type": "markdown",
      "metadata": {
        "id": "KkuYWS6YsIEK"
      },
      "source": [
        "c) Draw a plot simultaneously presenting the original values and the values with added noise - use two different colors on the same plot (use matplotlib)."
      ]
    },
    {
      "cell_type": "code",
      "execution_count": null,
      "metadata": {
        "id": "p6W4hNE5sSz3",
        "colab": {
          "base_uri": "https://localhost:8080/",
          "height": 449
        },
        "outputId": "67cb737f-45fc-433d-e283-690d087d2501"
      },
      "outputs": [
        {
          "output_type": "display_data",
          "data": {
            "text/plain": [
              "<Figure size 640x480 with 1 Axes>"
            ],
            "image/png": "[encoded data removed]"
          },
          "metadata": {}
        }
      ],
      "source": [
        "import numpy as np\n",
        "import matplotlib.pyplot as plt\n",
        "\n",
        "vals = np.linspace(0.04, 5, 200)\n",
        "log_vals = np.log(vals)\n",
        "\n",
        "noise = np.random.normal(loc=0, scale=0.2, size=log_vals.shape)\n",
        "log_vals_distorted = log_vals + noise\n",
        "\n",
        "plt.figure(dpi=100)\n",
        "plt.plot(vals, log_vals, \"b-\", label=\"Original log values\")\n",
        "plt.plot(vals, log_vals_distorted, \"r-\", label=\"Noisy log values\")\n",
        "\n",
        "plt.grid(True)\n",
        "plt.xlabel(\"Input Values\")\n",
        "plt.ylabel(\"Natural Logarithm\")\n",
        "plt.legend()\n",
        "plt.show()"
      ]
    },
    {
      "cell_type": "markdown",
      "metadata": {
        "id": "bUDspurysS6I"
      },
      "source": [
        "d) Remove the noise by averaging neighboring values ​​using a uniform filter with different window sizes (3, 7, 13). Ignore boundary values."
      ]
    },
    {
      "cell_type": "code",
      "source": [
        "window_size = 3\n",
        "\n",
        "filtered_values = log_vals_distorted.copy()\n",
        "\n",
        "half_window = window_size // 2\n",
        "for i in range(half_window, len(log_vals_distorted) - half_window):\n",
        "    filtered_values[i] = np.mean(log_vals_distorted[i - half_window : i + half_window + 1])\n",
        "\n",
        "print(filtered_values)"
      ],
      "metadata": {
        "id": "YTkv5ojNoujh",
        "outputId": "81ffcadd-17d1-4077-8c4a-55ff6d1de34f",
        "colab": {
          "base_uri": "https://localhost:8080/"
        },
        "collapsed": true
      },
      "execution_count": null,
      "outputs": [
        {
          "output_type": "stream",
          "name": "stdout",
          "text": [
            "[-3.46504083 -2.73750732 -2.30432272 -1.8736747  -1.90999945 -1.82921451\n",
            " -1.91969787 -1.65047336 -1.60857954 -1.46913045 -1.46031929 -1.17790165\n",
            " -1.01498288 -0.81603884 -0.90585252 -0.98026289 -1.06820119 -0.97285929\n",
            " -0.75909579 -0.72983194 -0.55440645 -0.5573152  -0.47008516 -0.45776515\n",
            " -0.51901742 -0.35746043 -0.35319071 -0.27099875 -0.31106115 -0.32557428\n",
            " -0.21286613 -0.27778121 -0.13761115 -0.08180951  0.02197519 -0.09151913\n",
            " -0.12622889 -0.18673954 -0.06721774 -0.16214762 -0.04426739  0.00636185\n",
            "  0.12489521  0.15078343  0.12270637  0.14981746  0.22244396  0.28635763\n",
            "  0.33652767  0.30358351  0.31950681  0.24206989  0.30513107  0.32438681\n",
            "  0.42291205  0.3876825   0.42799917  0.45496049  0.46929239  0.45010352\n",
            "  0.50143446  0.47687954  0.49977576  0.57570263  0.63546919  0.69000431\n",
            "  0.51549497  0.50983181  0.56652364  0.66282509  0.64946696  0.64823039\n",
            "  0.66139881  0.59871079  0.52886294  0.42624364  0.59814158  0.65999924\n",
            "  0.83273916  0.75508758  0.60738916  0.5978426   0.69821784  0.7673013\n",
            "  0.86195572  0.8027822   0.94371757  0.82409419  0.95242805  0.84060111\n",
            "  0.9550651   0.82612338  0.85948307  0.72141852  0.70811962  0.68585871\n",
            "  0.62381005  0.7062942   0.78355868  0.89863771  0.87984358  0.74491244\n",
            "  0.76017269  0.99021962  1.24002608  1.38031894  1.11512769  0.99917944\n",
            "  0.92342018  0.98369485  0.96895594  1.08850598  1.05959115  1.07123116\n",
            "  0.9045233   1.08080364  1.02723037  0.95422881  0.88499068  1.06509974\n",
            "  1.22178604  1.1577301   1.17400723  1.15215973  1.17241935  1.2170153\n",
            "  1.28258499  1.39208166  1.24559624  1.21670175  1.22130509  1.38318072\n",
            "  1.41129272  1.37005675  1.15350889  1.16862978  1.23747203  1.27486578\n",
            "  1.23896789  1.23763844  1.19969649  1.30020207  1.21757975  1.43928394\n",
            "  1.39021311  1.36240835  1.27066933  1.30520916  1.37765562  1.24719773\n",
            "  1.20703652  1.1869746   1.41644157  1.52893744  1.54488463  1.53516805\n",
            "  1.3797243   1.33786007  1.27448604  1.33090241  1.38034337  1.28324572\n",
            "  1.27979648  1.30050857  1.31067857  1.36545152  1.41659097  1.5618344\n",
            "  1.54052683  1.44243232  1.42069085  1.43856873  1.52057024  1.49531815\n",
            "  1.43756326  1.45525759  1.52814907  1.56679053  1.51636754  1.38994948\n",
            "  1.36135383  1.34618039  1.46049071  1.52783334  1.5230467   1.56677116\n",
            "  1.46866536  1.60190033  1.53902835  1.53787304  1.59593499  1.67519472\n",
            "  1.74964708  1.57419258  1.61146366  1.65454525  1.66495418  1.65503412\n",
            "  1.54373836  1.34972626]\n"
          ]
        }
      ]
    },
    {
      "cell_type": "markdown",
      "metadata": {
        "id": "uZ14jIq8sci9"
      },
      "source": [
        "e) Plot the result again, this time showing the original generated values ​​and three plots of the values ​​averaged over different window sizes. Add grid, axis captions, legend."
      ]
    },
    {
      "cell_type": "code",
      "execution_count": null,
      "metadata": {
        "id": "2vKUam5xsxdp",
        "colab": {
          "base_uri": "https://localhost:8080/",
          "height": 542
        },
        "outputId": "f718d11d-7d36-4497-f880-6cb4eca43f95"
      },
      "outputs": [
        {
          "output_type": "display_data",
          "data": {
            "text/plain": [
              "<Figure size 1000x600 with 1 Axes>"
            ],
            "image/png": "[encoded data removed]"
          },
          "metadata": {}
        }
      ],
      "source": [
        "vals = np.linspace(0.04, 5, 200)\n",
        "log_vals = np.log(vals)\n",
        "\n",
        "noise = np.random.normal(loc=0, scale=0.2, size=log_vals.shape)\n",
        "log_vals_distorted = log_vals + noise\n",
        "\n",
        "window_sizes = [3, 7, 13]\n",
        "\n",
        "plt.figure(figsize=(10, 6), dpi=100)\n",
        "\n",
        "plt.plot(vals, log_vals, label=\"Initial values\", color=\"blue\", linestyle=\"--\", alpha=0.7)\n",
        "\n",
        "plt.plot(vals, log_vals_distorted, label=\"Noisy Data\", color=\"blue\", alpha=0.5)\n",
        "\n",
        "for window_size in window_sizes:\n",
        "    filtered_values = log_vals_distorted.copy()\n",
        "    half_window = window_size // 2\n",
        "\n",
        "    for i in range(half_window, len(log_vals_distorted) - half_window):\n",
        "        filtered_values[i] = np.mean(log_vals_distorted[i - half_window:i + half_window + 1])\n",
        "\n",
        "    plt.plot(vals, filtered_values, label=f\"Filtered (window={window_size})\")\n",
        "\n",
        "plt.grid(True)\n",
        "plt.xlabel(\"X-axis\")\n",
        "plt.ylabel(\"Y-axis\")\n",
        "plt.legend()\n",
        "plt.show()"
      ]
    },
    {
      "cell_type": "markdown",
      "metadata": {
        "id": "Kj_FbR4AqhbD"
      },
      "source": [
        "### Task 4 - NumPy & PyTorch & JAX"
      ]
    },
    {
      "cell_type": "markdown",
      "metadata": {
        "id": "eXaifLwKqiaT"
      },
      "source": [
        "a) Generate two vectors of 10,000,000 random numbers using the NumPy, PyTorch, and JAX libraries. Add them together and measure the addition time. Which library is faster? Check and output time for different data types (int/float16/float32/float64)"
      ]
    },
    {
      "cell_type": "code",
      "execution_count": null,
      "metadata": {
        "id": "qx09xvkmqigm",
        "colab": {
          "base_uri": "https://localhost:8080/"
        },
        "outputId": "afde9c06-9049-46ed-e5a2-7421327589af"
      },
      "outputs": [
        {
          "output_type": "stream",
          "name": "stdout",
          "text": [
            "NumPy:\n",
            "Elapsed time for NumPy (<class 'numpy.int32'>): 0.0153 seconds\n",
            "Elapsed time for NumPy (<class 'numpy.float16'>): 0.0963 seconds\n",
            "Elapsed time for NumPy (<class 'numpy.float32'>): 0.0151 seconds\n",
            "Elapsed time for NumPy (<class 'numpy.float64'>): 0.0291 seconds\n",
            "\n",
            "PyTorch:\n",
            "Elapsed time for PyTorch (<class 'numpy.int32'>): 0.0303 seconds\n",
            "Elapsed time for PyTorch (<class 'numpy.float16'>): 0.0168 seconds\n",
            "Elapsed time for PyTorch (<class 'numpy.float32'>): 0.0234 seconds\n",
            "Elapsed time for PyTorch (<class 'numpy.float64'>): 0.0466 seconds\n",
            "\n",
            "JAX:\n",
            "Elapsed time for JAX (<class 'numpy.int32'>): 0.0293 seconds\n",
            "Elapsed time for JAX (<class 'numpy.float16'>): 0.0306 seconds\n",
            "Elapsed time for JAX (<class 'numpy.float32'>): 0.0297 seconds\n",
            "Elapsed time for JAX (<class 'numpy.float64'>): 0.0001 seconds\n"
          ]
        },
        {
          "output_type": "stream",
          "name": "stderr",
          "text": [
            "<ipython-input-24-ef2c7f7352e7>:62: UserWarning: Explicitly requested dtype <class 'jax.numpy.float64'>  is not available, and will be truncated to dtype float32. To enable more dtypes, set the jax_enable_x64 configuration option or the JAX_ENABLE_X64 shell environment variable. See https://github.com/google/jax#current-gotchas for more.\n",
            "  v1_jnp = random.uniform(key, shape=(10_000_000,), dtype=jax_dtype)\n",
            "<ipython-input-24-ef2c7f7352e7>:64: UserWarning: Explicitly requested dtype <class 'jax.numpy.float64'>  is not available, and will be truncated to dtype float32. To enable more dtypes, set the jax_enable_x64 configuration option or the JAX_ENABLE_X64 shell environment variable. See https://github.com/google/jax#current-gotchas for more.\n",
            "  v2_jnp = random.uniform(subkey, shape=(10_000_000,), dtype=jax_dtype)\n"
          ]
        }
      ],
      "source": [
        "import time\n",
        "import numpy as np\n",
        "import torch as tc\n",
        "import jax.numpy as jnp\n",
        "from jax import random\n",
        "\n",
        "dtypes = [np.int32, np.float16, np.float32, np.float64]\n",
        "\n",
        "def measure_addition_time(lib_name, v1, v2, dtype):\n",
        "    start_time = time.time()\n",
        "    v3 = v1 + v2\n",
        "    end_time = time.time()\n",
        "    elapsed_time = end_time - start_time\n",
        "    print(f\"Elapsed time for {lib_name} ({dtype}): {elapsed_time:.4f} seconds\")\n",
        "    return elapsed_time\n",
        "\n",
        "print(\"NumPy:\")\n",
        "for dtype in dtypes:\n",
        "    v1_np = np.random.rand(10_000_000).astype(dtype)\n",
        "    v2_np = np.random.rand(10_000_000).astype(dtype)\n",
        "    measure_addition_time(\"NumPy\", v1_np, v2_np, dtype)\n",
        "\n",
        "print(\"\\nPyTorch:\")\n",
        "for dtype in dtypes:\n",
        "    if dtype == np.int32:\n",
        "        v1_tc = tc.randint(0, 100, (10_000_000,), dtype=tc.int32)\n",
        "        v2_tc = tc.randint(0, 100, (10_000_000,), dtype=tc.int32)\n",
        "    else:\n",
        "        torch_dtype = {\n",
        "            np.float16: tc.float16,\n",
        "            np.float32: tc.float32,\n",
        "            np.float64: tc.float64,\n",
        "        }[dtype]\n",
        "        v1_tc = tc.rand(10_000_000, dtype=torch_dtype)\n",
        "        v2_tc = tc.rand(10_000_000, dtype=torch_dtype)\n",
        "\n",
        "    measure_addition_time(\"PyTorch\", v1_tc, v2_tc, dtype)\n",
        "\n",
        "print(\"\\nJAX:\")\n",
        "for dtype in dtypes:\n",
        "    jax_dtype = {\n",
        "        np.int32: jnp.int32,\n",
        "        np.float16: jnp.float16,\n",
        "        np.float32: jnp.float32,\n",
        "        np.float64: jnp.float64,\n",
        "    }[dtype]\n",
        "\n",
        "    key = random.PRNGKey(0)\n",
        "\n",
        "    if dtype == np.int32:\n",
        "        v1_jnp = random.randint(key, shape=(10_000_000,), minval=0, maxval=100, dtype=jax_dtype)\n",
        "        key, subkey = random.split(key)\n",
        "        v2_jnp = random.randint(subkey, shape=(10_000_000,), minval=0, maxval=100, dtype=jax_dtype)\n",
        "    else:\n",
        "        v1_jnp = random.uniform(key, shape=(10_000_000,), dtype=jax_dtype)\n",
        "        key, subkey = random.split(key)\n",
        "        v2_jnp = random.uniform(subkey, shape=(10_000_000,), dtype=jax_dtype)\n",
        "\n",
        "    measure_addition_time(\"JAX\", v1_jnp, v2_jnp, dtype)\n"
      ]
    },
    {
      "cell_type": "markdown",
      "metadata": {
        "id": "R5nInxQvtXGB"
      },
      "source": [
        "b) Repeat the same experiment, but this time use the GPU available in Google Colab to accelerate the computations using PyTorch and JAX libraries. What are the differences now? We will get back to JAX when introducing gradients and autodifferentation."
      ]
    },
    {
      "cell_type": "code",
      "execution_count": null,
      "metadata": {
        "id": "pt3askRutoR2",
        "colab": {
          "base_uri": "https://localhost:8080/"
        },
        "outputId": "5a8706b1-1c82-48f5-bfeb-227ed8efc3c2"
      },
      "outputs": [
        {
          "output_type": "stream",
          "name": "stdout",
          "text": [
            "Using device: cuda\n",
            "NumPy:\n",
            "Elapsed time for NumPy (<class 'numpy.int32'>): 0.0447 seconds\n",
            "Elapsed time for NumPy (<class 'numpy.float16'>): 0.1674 seconds\n",
            "Elapsed time for NumPy (<class 'numpy.float32'>): 0.0153 seconds\n",
            "Elapsed time for NumPy (<class 'numpy.float64'>): 0.0294 seconds\n",
            "\n",
            "PyTorch (GPU):\n",
            "Elapsed time for PyTorch (<class 'numpy.int32'>): 0.0539 seconds\n",
            "Elapsed time for PyTorch (<class 'numpy.float16'>): 0.0005 seconds\n",
            "Elapsed time for PyTorch (<class 'numpy.float32'>): 0.0008 seconds\n",
            "Elapsed time for PyTorch (<class 'numpy.float64'>): 0.0007 seconds\n",
            "\n",
            "JAX (GPU):\n",
            "Elapsed time for JAX (<class 'numpy.int32'>): 0.0001 seconds\n",
            "Elapsed time for JAX (<class 'numpy.float16'>): 0.0002 seconds\n",
            "Elapsed time for JAX (<class 'numpy.float32'>): 0.0001 seconds\n",
            "Elapsed time for JAX (<class 'numpy.float64'>): 0.0001 seconds\n"
          ]
        },
        {
          "output_type": "stream",
          "name": "stderr",
          "text": [
            "<ipython-input-25-953adb68c955>:66: UserWarning: Explicitly requested dtype <class 'jax.numpy.float64'>  is not available, and will be truncated to dtype float32. To enable more dtypes, set the jax_enable_x64 configuration option or the JAX_ENABLE_X64 shell environment variable. See https://github.com/google/jax#current-gotchas for more.\n",
            "  v1_jnp = random.uniform(key, shape=(10_000_000,), dtype=jax_dtype)\n",
            "<ipython-input-25-953adb68c955>:68: UserWarning: Explicitly requested dtype <class 'jax.numpy.float64'>  is not available, and will be truncated to dtype float32. To enable more dtypes, set the jax_enable_x64 configuration option or the JAX_ENABLE_X64 shell environment variable. See https://github.com/google/jax#current-gotchas for more.\n",
            "  v2_jnp = random.uniform(subkey, shape=(10_000_000,), dtype=jax_dtype)\n"
          ]
        }
      ],
      "source": [
        "import time\n",
        "import numpy as np\n",
        "import torch as tc\n",
        "import jax.numpy as jnp\n",
        "from jax import random, device_put\n",
        "\n",
        "device = \"cuda\" if tc.cuda.is_available() else \"cpu\"\n",
        "print(f\"Using device: {device}\")\n",
        "\n",
        "dtypes = [np.int32, np.float16, np.float32, np.float64]\n",
        "\n",
        "def measure_addition_time(lib_name, v1, v2, dtype):\n",
        "    start_time = time.time()\n",
        "    v3 = v1 + v2\n",
        "    end_time = time.time()\n",
        "    elapsed_time = end_time - start_time\n",
        "    print(f\"Elapsed time for {lib_name} ({dtype}): {elapsed_time:.4f} seconds\")\n",
        "    return elapsed_time\n",
        "\n",
        "print(\"NumPy:\")\n",
        "for dtype in dtypes:\n",
        "    v1_np = np.random.rand(10_000_000).astype(dtype)\n",
        "    v2_np = np.random.rand(10_000_000).astype(dtype)\n",
        "    measure_addition_time(\"NumPy\", v1_np, v2_np, dtype)\n",
        "\n",
        "print(\"\\nPyTorch (GPU):\")\n",
        "for dtype in dtypes:\n",
        "    if dtype == np.int32:\n",
        "        v1_tc = tc.randint(0, 100, (10_000_000,), dtype=tc.int32).to(device)\n",
        "        v2_tc = tc.randint(0, 100, (10_000_000,), dtype=tc.int32).to(device)\n",
        "    else:\n",
        "        torch_dtype = {\n",
        "            np.float16: tc.float16,\n",
        "            np.float32: tc.float32,\n",
        "            np.float64: tc.float64,\n",
        "        }[dtype]\n",
        "        v1_tc = tc.rand(10_000_000, dtype=torch_dtype).to(device)\n",
        "        v2_tc = tc.rand(10_000_000, dtype=torch_dtype).to(device)\n",
        "\n",
        "    measure_addition_time(\"PyTorch\", v1_tc, v2_tc, dtype)\n",
        "\n",
        "print(\"\\nJAX (GPU):\")\n",
        "for dtype in dtypes:\n",
        "    jax_dtype = {\n",
        "        np.int32: jnp.int32,\n",
        "        np.float16: jnp.float16,\n",
        "        np.float32: jnp.float32,\n",
        "        np.float64: jnp.float64,\n",
        "    }[dtype]\n",
        "\n",
        "    key = random.PRNGKey(0)\n",
        "\n",
        "    if dtype == np.int32:\n",
        "        v1_jnp = random.randint(key, shape=(10_000_000,), minval=0, maxval=100, dtype=jax_dtype)\n",
        "        key, subkey = random.split(key)\n",
        "        v2_jnp = random.randint(subkey, shape=(10_000_000,), minval=0, maxval=100, dtype=jax_dtype)\n",
        "    else:\n",
        "        v1_jnp = random.uniform(key, shape=(10_000_000,), dtype=jax_dtype)\n",
        "        key, subkey = random.split(key)\n",
        "        v2_jnp = random.uniform(subkey, shape=(10_000_000,), dtype=jax_dtype)\n",
        "\n",
        "    v1_jnp = device_put(v1_jnp)\n",
        "    v2_jnp = device_put(v2_jnp)\n",
        "\n",
        "    measure_addition_time(\"JAX\", v1_jnp, v2_jnp, dtype)\n"
      ]
    },
    {
      "cell_type": "markdown",
      "metadata": {
        "id": "2PLh7WK8qilk"
      },
      "source": [
        "### Task 5 - NumPy & PyTorch"
      ]
    },
    {
      "cell_type": "markdown",
      "metadata": {
        "id": "d_aJkoc7qjeh"
      },
      "source": [
        "a) Write a function that takes two NumPy arrays and returns a NumPy array with elements occuring in both the arrays. Test your implementation."
      ]
    },
    {
      "cell_type": "code",
      "execution_count": null,
      "metadata": {
        "id": "YhxfcaaUqjjO",
        "colab": {
          "base_uri": "https://localhost:8080/"
        },
        "outputId": "50937acd-6ff1-4d24-8326-a6f67763e231"
      },
      "outputs": [
        {
          "output_type": "stream",
          "name": "stdout",
          "text": [
            "[3 3 4 8 9] [8 4 7 1 1]\n",
            "Intersection of array_1 and array_2: [4 8]\n"
          ]
        }
      ],
      "source": [
        "def intersection_np(array_1 : np.ndarray, array_2 : np.ndarray) -> np.ndarray:\n",
        "  return np.intersect1d(array_1, array_2)\n",
        "\n",
        "array_1 = np.random.randint(0,10,5).astype(np.int32)\n",
        "array_2 = np.random.randint(0,10,5).astype(np.int32)\n",
        "\n",
        "result = intersection_np(array_1, array_2)\n",
        "print(array_1, array_2)\n",
        "print(f\"Intersection of array_1 and array_2: {result}\")"
      ]
    },
    {
      "cell_type": "markdown",
      "metadata": {
        "id": "o_C96G16vdNU"
      },
      "source": [
        "b) Now repeat the same task but using the PyTorch library and PyTorch tensors. Test your implementation."
      ]
    },
    {
      "cell_type": "code",
      "execution_count": null,
      "metadata": {
        "id": "TExWNLvDvh9m",
        "colab": {
          "base_uri": "https://localhost:8080/"
        },
        "outputId": "9119c1d4-5685-4dc9-d111-3a25b51e6c33"
      },
      "outputs": [
        {
          "output_type": "stream",
          "name": "stdout",
          "text": [
            "tensor_1: tensor([9, 2, 2, 5, 4], dtype=torch.int32)\n",
            "tensor_2: tensor([3, 4, 9, 4, 4], dtype=torch.int32)\n",
            "Intersection of tensor_1 and tensor_2: tensor([4, 9], dtype=torch.int32)\n"
          ]
        }
      ],
      "source": [
        "def intersection_tc(tensor_1 : tc.Tensor, tensor_2 : tc.Tensor) -> tc.Tensor:\n",
        "  return tc.tensor(np.intersect1d(tensor_1.numpy(), tensor_2.numpy()))\n",
        "\n",
        "tensor_1 = tc.randint(0, 10, (5,), dtype=tc.int32)\n",
        "tensor_2 = tc.randint(0, 10, (5,), dtype=tc.int32)\n",
        "\n",
        "result = intersection_tc(tensor_1, tensor_2)\n",
        "print(f\"tensor_1: {tensor_1}\")\n",
        "print(f\"tensor_2: {tensor_2}\")\n",
        "print(f\"Intersection of tensor_1 and tensor_2: {result}\")"
      ]
    },
    {
      "cell_type": "markdown",
      "metadata": {
        "id": "xhUmf1ONqlFN"
      },
      "source": [
        "### Task 6 - NumPy & PyTorch"
      ]
    },
    {
      "cell_type": "markdown",
      "metadata": {
        "id": "C3S9x6xuql9r"
      },
      "source": [
        "a) Write a function that takes a NumPy array and returns the most frequent value in the array. Test your implementation."
      ]
    },
    {
      "cell_type": "code",
      "execution_count": null,
      "metadata": {
        "id": "rvwkM-YOqmCa",
        "colab": {
          "base_uri": "https://localhost:8080/"
        },
        "outputId": "72208ac5-28c2-487e-fc67-2931006a31df"
      },
      "outputs": [
        {
          "output_type": "stream",
          "name": "stdout",
          "text": [
            "[2 0 4 0 6]\n",
            "Most common element in array: 0\n"
          ]
        }
      ],
      "source": [
        "def most_common_element_np(array : np.ndarray) -> np.ndarray:\n",
        "  return np.bincount(array).argmax()\n",
        "\n",
        "array = np.random.randint(0,10,5).astype(np.int32)\n",
        "print(array)\n",
        "# if every element occurs the same number of times, the first to set the max value is considered the \"max\"\n",
        "print(f\"Most common element in array: {most_common_element_np(array)}\")"
      ]
    },
    {
      "cell_type": "markdown",
      "metadata": {
        "id": "hIki_-f3wISA"
      },
      "source": [
        "b) Repeat the same task using PyTorch."
      ]
    },
    {
      "cell_type": "code",
      "execution_count": null,
      "metadata": {
        "id": "BEmTNaafwLlD",
        "colab": {
          "base_uri": "https://localhost:8080/"
        },
        "outputId": "415a0b76-0064-4093-980f-d1eaf688059c"
      },
      "outputs": [
        {
          "output_type": "stream",
          "name": "stdout",
          "text": [
            "tensor([1, 7, 0, 6, 8], dtype=torch.int32)\n",
            "Most common element in tensor: 0\n"
          ]
        }
      ],
      "source": [
        "\n",
        "\n",
        "def most_common_element_tc(tensor: tc.Tensor) -> tc.Tensor:\n",
        "    return tc.bincount(tensor).argmax()\n",
        "\n",
        "tensor = tc.randint(0, 10, (5,), dtype=tc.int32)\n",
        "\n",
        "print(tensor)\n",
        "# if every element occurs the same number of times, the first to set the max value is considered the \"max\"\n",
        "print(f\"Most common element in tensor: {most_common_element_tc(tensor)}\")"
      ]
    },
    {
      "cell_type": "markdown",
      "metadata": {
        "id": "gWKIHqa-qmH8"
      },
      "source": [
        "### Task 7 - NumPy & PyTorch"
      ]
    },
    {
      "cell_type": "markdown",
      "metadata": {
        "id": "BMXubwTrqnBy"
      },
      "source": [
        "a) Write a function that takes 2-D dimensional NumPy array and returns a list of 1-D arrays being unique rows in the input array."
      ]
    },
    {
      "cell_type": "code",
      "execution_count": null,
      "metadata": {
        "id": "AbmO2PHawmt5",
        "colab": {
          "base_uri": "https://localhost:8080/"
        },
        "outputId": "3ab246fc-86a1-494a-e7b0-8bdefdf3e996"
      },
      "outputs": [
        {
          "output_type": "stream",
          "name": "stdout",
          "text": [
            "Initial matrix: [[0 6 9 5 2]\n",
            " [8 0 2 3 3]\n",
            " [2 3 1 6 9]\n",
            " [2 2 5 2 2]\n",
            " [2 0 4 2 1]]\n",
            "\n",
            "Unique rows: [[0, 6, 9, 5, 2], [8, 0, 2, 3, 3], [2, 3, 1, 6, 9], [2, 2, 5, 2, 2], [2, 0, 4, 2, 1]]\n"
          ]
        }
      ],
      "source": [
        "def unique_rows_np(array : np.ndarray) -> list:\n",
        "  unique_rows = []\n",
        "  for i in range(array.shape[0]):\n",
        "    unique_rows.append(array[i].tolist())\n",
        "\n",
        "  return unique_rows\n",
        "\n",
        "array_2d = np.random.randint(0,10,(5,5))\n",
        "unique_rows = unique_rows_np(array_2d)\n",
        "print(f\"Initial matrix: {array_2d}\")\n",
        "print(f\"\\nUnique rows: {unique_rows}\")"
      ]
    },
    {
      "cell_type": "markdown",
      "metadata": {
        "id": "JesAkgtTwpBJ"
      },
      "source": [
        "b) Repeat the same task using PyTorch."
      ]
    },
    {
      "cell_type": "code",
      "execution_count": null,
      "metadata": {
        "id": "lyaRSHV-qnIa",
        "colab": {
          "base_uri": "https://localhost:8080/"
        },
        "outputId": "aabd0727-2363-44ad-b2c8-1c1a72359a3c"
      },
      "outputs": [
        {
          "output_type": "stream",
          "name": "stdout",
          "text": [
            "Initial matrix:\n",
            "tensor([[4, 3, 7, 8, 0],\n",
            "        [9, 1, 2, 3, 2],\n",
            "        [4, 4, 1, 3, 6],\n",
            "        [2, 2, 5, 4, 7],\n",
            "        [1, 3, 9, 2, 0]])\n",
            "\n",
            "Unique rows: [[4, 3, 7, 8, 0], [9, 1, 2, 3, 2], [4, 4, 1, 3, 6], [2, 2, 5, 4, 7], [1, 3, 9, 2, 0]]\n"
          ]
        }
      ],
      "source": [
        "import torch as tc\n",
        "\n",
        "def unique_rows_tc(tensor: tc.Tensor) -> list:\n",
        "    unique_rows = []\n",
        "    for i in range(tensor.shape[0]):\n",
        "        unique_rows.append(tensor[i].tolist())\n",
        "    return unique_rows\n",
        "\n",
        "tensor_2d = tc.randint(0, 10, (5, 5))\n",
        "unique_rows = unique_rows_tc(tensor_2d)\n",
        "\n",
        "print(f\"Initial matrix:\\n{tensor_2d}\")\n",
        "print(f\"\\nUnique rows: {unique_rows}\")"
      ]
    }
  ],
  "metadata": {
    "colab": {
      "provenance": [],
      "gpuType": "T4"
    },
    "kernelspec": {
      "display_name": "Python 3",
      "name": "python3"
    },
    "language_info": {
      "name": "python"
    },
    "accelerator": "GPU"
  },
  "nbformat": 4,
  "nbformat_minor": 0
}